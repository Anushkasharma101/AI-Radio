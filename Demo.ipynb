{
  "nbformat": 4,
  "nbformat_minor": 0,
  "metadata": {
    "colab": {
      "provenance": [],
      "mount_file_id": "19LnNVzoBf75cmVF3ByWLi8s6S08hL4v_",
      "authorship_tag": "ABX9TyP3iQSYAjXjUFXyQKR2hKZu",
      "include_colab_link": true
    },
    "kernelspec": {
      "name": "python3",
      "display_name": "Python 3"
    },
    "language_info": {
      "name": "python"
    },
    "gpuClass": "standard"
  },
  "cells": [
    {
      "cell_type": "markdown",
      "metadata": {
        "id": "view-in-github",
        "colab_type": "text"
      },
      "source": [
        "<a href=\"https://colab.research.google.com/github/Anushkasharma101/AI-Radio/blob/master/Demo.ipynb\" target=\"_parent\"><img src=\"https://colab.research.google.com/assets/colab-badge.svg\" alt=\"Open In Colab\"/></a>"
      ]
    },
    {
      "cell_type": "code",
      "source": [
        "import numpy as np\n",
        "import matplotlib.pyplot as plt\n",
        "\n",
        "import keras\n",
        "from keras.layers import Dense,Conv2D,MaxPool2D,Dropout,Flatten\n",
        "from keras.models import Sequential\n",
        "from keras.preprocessing import image"
      ],
      "metadata": {
        "id": "yG687CyuS8yL"
      },
      "execution_count": 2,
      "outputs": []
    },
    {
      "cell_type": "markdown",
      "source": [
        "#Load Data"
      ],
      "metadata": {
        "id": "ViePXmFbYCWy"
      }
    },
    {
      "cell_type": "code",
      "source": [
        "train_datagen = image.ImageDataGenerator(\n",
        "    rescale = 1/255, horizontal_flip = True, zoom_range=0.2,shear_range=0.2\n",
        ")\n",
        "\n",
        "train_data = train_datagen.flow_from_directory(directory=\"/content/drive/MyDrive/Programs/CovidDatasets/Train\",target_size=(256,256),batch_size=16,\n",
        "                                          class_mode = 'binary'\n",
        "                                          )\n"
      ],
      "metadata": {
        "colab": {
          "base_uri": "https://localhost:8080/"
        },
        "id": "73i63HWVTl7B",
        "outputId": "c9f159c8-bb4c-4790-9f88-9cc0fd2f2882"
      },
      "execution_count": 4,
      "outputs": [
        {
          "output_type": "stream",
          "name": "stdout",
          "text": [
            "Found 2481 images belonging to 2 classes.\n"
          ]
        }
      ]
    },
    {
      "cell_type": "code",
      "source": [
        "train_data.class_indices"
      ],
      "metadata": {
        "colab": {
          "base_uri": "https://localhost:8080/"
        },
        "id": "Te_ZMYKcWwgn",
        "outputId": "bfccefdb-eada-428a-e753-a6a0612b354c"
      },
      "execution_count": 5,
      "outputs": [
        {
          "output_type": "execute_result",
          "data": {
            "text/plain": [
              "{'COVID': 0, 'non-COVID': 1}"
            ]
          },
          "metadata": {},
          "execution_count": 5
        }
      ]
    },
    {
      "cell_type": "code",
      "source": [
        "Val_datagen = image.ImageDataGenerator(\n",
        "    rescale = 1/255 \n",
        ")\n",
        "\n",
        "Val_data = Val_datagen.flow_from_directory(directory=\"/content/drive/MyDrive/Programs/CovidDatasets/Val\",target_size=(256,256),batch_size=16,\n",
        "                                          class_mode = 'binary'\n",
        "                                          )\n"
      ],
      "metadata": {
        "colab": {
          "base_uri": "https://localhost:8080/"
        },
        "id": "f5cRxhocXKde",
        "outputId": "d70620f7-6b5a-4746-e633-1130bb75d4a4"
      },
      "execution_count": 6,
      "outputs": [
        {
          "output_type": "stream",
          "name": "stdout",
          "text": [
            "Found 746 images belonging to 2 classes.\n"
          ]
        }
      ]
    },
    {
      "cell_type": "markdown",
      "source": [
        "#CNN Model"
      ],
      "metadata": {
        "id": "BvximVGfX5qr"
      }
    },
    {
      "cell_type": "code",
      "source": [
        "model= Sequential()\n",
        "\n",
        "model.add(Conv2D(filters=32,kernel_size=(3,3),activation='relu',input_shape = (256,256,3)))\n",
        "\n",
        "model.add(Conv2D(filters=32,kernel_size=(3,3),activation='relu'))\n",
        "model.add(MaxPool2D())\n",
        "model.add(Dropout(rate=0.25))\n",
        "\n",
        "model.add(Conv2D(filters=64,kernel_size=(3,3),activation='relu'))\n",
        "model.add(MaxPool2D())\n",
        "model.add(Dropout(rate=0.25))\n",
        "\n",
        "model.add(Flatten())\n",
        "model.add(Dense(units = 64,activation = 'relu'))\n",
        "model.add(Dropout(rate=0.50))\n",
        "model.add(Dense(units = 1,activation = 'sigmoid'))\n",
        "\n",
        "model.compile(loss=keras.losses.binary_crossentropy,optimizer = \"adam\",metrics = ['acc'])"
      ],
      "metadata": {
        "id": "eRG5iC-lX49m"
      },
      "execution_count": 7,
      "outputs": []
    },
    {
      "cell_type": "code",
      "source": [
        "model.summary()"
      ],
      "metadata": {
        "colab": {
          "base_uri": "https://localhost:8080/"
        },
        "id": "Y4_tggljamqh",
        "outputId": "9b3d3388-5267-407f-9211-e11668f38257"
      },
      "execution_count": 8,
      "outputs": [
        {
          "output_type": "stream",
          "name": "stdout",
          "text": [
            "Model: \"sequential\"\n",
            "_________________________________________________________________\n",
            " Layer (type)                Output Shape              Param #   \n",
            "=================================================================\n",
            " conv2d (Conv2D)             (None, 254, 254, 32)      896       \n",
            "                                                                 \n",
            " conv2d_1 (Conv2D)           (None, 252, 252, 32)      9248      \n",
            "                                                                 \n",
            " max_pooling2d (MaxPooling2D  (None, 126, 126, 32)     0         \n",
            " )                                                               \n",
            "                                                                 \n",
            " dropout (Dropout)           (None, 126, 126, 32)      0         \n",
            "                                                                 \n",
            " conv2d_2 (Conv2D)           (None, 124, 124, 64)      18496     \n",
            "                                                                 \n",
            " max_pooling2d_1 (MaxPooling  (None, 62, 62, 64)       0         \n",
            " 2D)                                                             \n",
            "                                                                 \n",
            " dropout_1 (Dropout)         (None, 62, 62, 64)        0         \n",
            "                                                                 \n",
            " flatten (Flatten)           (None, 246016)            0         \n",
            "                                                                 \n",
            " dense (Dense)               (None, 64)                15745088  \n",
            "                                                                 \n",
            " dropout_2 (Dropout)         (None, 64)                0         \n",
            "                                                                 \n",
            " dense_1 (Dense)             (None, 1)                 65        \n",
            "                                                                 \n",
            "=================================================================\n",
            "Total params: 15,773,793\n",
            "Trainable params: 15,773,793\n",
            "Non-trainable params: 0\n",
            "_________________________________________________________________\n"
          ]
        }
      ]
    },
    {
      "cell_type": "code",
      "source": [
        "model.fit_generator(train_data,steps_per_epoch=8,epochs=10,validation_steps=2,\n",
        "                    validation_data = Val_data)"
      ],
      "metadata": {
        "colab": {
          "base_uri": "https://localhost:8080/"
        },
        "id": "GAvHSyJta4MV",
        "outputId": "da92dcfb-017f-41c7-aef5-df4f613b47d9"
      },
      "execution_count": 9,
      "outputs": [
        {
          "output_type": "stream",
          "name": "stderr",
          "text": [
            "/usr/local/lib/python3.7/dist-packages/ipykernel_launcher.py:2: UserWarning: `Model.fit_generator` is deprecated and will be removed in a future version. Please use `Model.fit`, which supports generators.\n",
            "  \n"
          ]
        },
        {
          "output_type": "stream",
          "name": "stdout",
          "text": [
            "Epoch 1/10\n",
            "8/8 [==============================] - 106s 12s/step - loss: 3.0606 - acc: 0.4766 - val_loss: 0.6477 - val_acc: 0.6875\n",
            "Epoch 2/10\n",
            "8/8 [==============================] - 102s 13s/step - loss: 0.7351 - acc: 0.5156 - val_loss: 0.6916 - val_acc: 0.5000\n",
            "Epoch 3/10\n",
            "8/8 [==============================] - 99s 13s/step - loss: 0.6914 - acc: 0.5000 - val_loss: 0.7044 - val_acc: 0.3750\n",
            "Epoch 4/10\n",
            "8/8 [==============================] - 82s 11s/step - loss: 0.6955 - acc: 0.4922 - val_loss: 0.6943 - val_acc: 0.4375\n",
            "Epoch 5/10\n",
            "8/8 [==============================] - 87s 11s/step - loss: 0.6911 - acc: 0.5547 - val_loss: 0.6950 - val_acc: 0.4375\n",
            "Epoch 6/10\n",
            "8/8 [==============================] - 75s 10s/step - loss: 0.6892 - acc: 0.6172 - val_loss: 0.6804 - val_acc: 0.5312\n",
            "Epoch 7/10\n",
            "8/8 [==============================] - 77s 10s/step - loss: 0.6971 - acc: 0.5547 - val_loss: 0.6864 - val_acc: 0.5000\n",
            "Epoch 8/10\n",
            "8/8 [==============================] - 69s 9s/step - loss: 0.6757 - acc: 0.5078 - val_loss: 0.6885 - val_acc: 0.5938\n",
            "Epoch 9/10\n",
            "8/8 [==============================] - 71s 10s/step - loss: 0.6879 - acc: 0.5391 - val_loss: 0.6857 - val_acc: 0.5312\n",
            "Epoch 10/10\n",
            "8/8 [==============================] - 61s 8s/step - loss: 0.6749 - acc: 0.5547 - val_loss: 0.6991 - val_acc: 0.4688\n"
          ]
        },
        {
          "output_type": "execute_result",
          "data": {
            "text/plain": [
              "<keras.callbacks.History at 0x7f7b8f1f48d0>"
            ]
          },
          "metadata": {},
          "execution_count": 9
        }
      ]
    },
    {
      "cell_type": "code",
      "source": [
        "import keras.utils as image\n",
        "import numpy as np\n",
        "\n",
        "path = \"/content/drive/MyDrive/Colab Notebooks/test/Covid/0105.png\"\n",
        "img = image.load_img(path, target_size = (256,256))\n",
        "\n",
        "img = image.img_to_array(img)/255\n",
        "img = np.array([img])\n",
        "img.shape"
      ],
      "metadata": {
        "colab": {
          "base_uri": "https://localhost:8080/"
        },
        "id": "10b0KaAcoce_",
        "outputId": "5e4c7d65-67fa-481c-aa33-f452b658e63d"
      },
      "execution_count": 9,
      "outputs": [
        {
          "output_type": "execute_result",
          "data": {
            "text/plain": [
              "(1, 256, 256, 3)"
            ]
          },
          "metadata": {},
          "execution_count": 9
        }
      ]
    },
    {
      "cell_type": "code",
      "source": [
        "import tensorflow as tf\n",
        "from tensorflow.keras import Model\n",
        "from keras.models import Model\n",
        "model = Sequential()\n",
        "\n",
        "model.predict(img)\n"
      ],
      "metadata": {
        "colab": {
          "base_uri": "https://localhost:8080/"
        },
        "id": "vvzcjB_10o1a",
        "outputId": "531c9427-a21b-455c-f591-5cda606d6b0e"
      },
      "execution_count": 28,
      "outputs": [
        {
          "output_type": "stream",
          "name": "stdout",
          "text": [
            "1/1 [==============================] - 0s 214ms/step\n"
          ]
        },
        {
          "output_type": "execute_result",
          "data": {
            "text/plain": [
              "array([[[[0.02352941, 0.02352941, 0.02352941],\n",
              "         [0.02352941, 0.02352941, 0.02352941],\n",
              "         [0.02352941, 0.02352941, 0.02352941],\n",
              "         ...,\n",
              "         [0.00392157, 0.00392157, 0.00392157],\n",
              "         [0.00784314, 0.00784314, 0.00784314],\n",
              "         [0.00784314, 0.00784314, 0.00784314]],\n",
              "\n",
              "        [[0.02352941, 0.02352941, 0.02352941],\n",
              "         [0.02745098, 0.02745098, 0.02745098],\n",
              "         [0.03137255, 0.03137255, 0.03137255],\n",
              "         ...,\n",
              "         [0.00784314, 0.00784314, 0.00784314],\n",
              "         [0.01176471, 0.01176471, 0.01176471],\n",
              "         [0.01176471, 0.01176471, 0.01176471]],\n",
              "\n",
              "        [[0.02745098, 0.02745098, 0.02745098],\n",
              "         [0.03137255, 0.03137255, 0.03137255],\n",
              "         [0.03137255, 0.03137255, 0.03137255],\n",
              "         ...,\n",
              "         [0.01568628, 0.01568628, 0.01568628],\n",
              "         [0.01176471, 0.01176471, 0.01176471],\n",
              "         [0.01176471, 0.01176471, 0.01176471]],\n",
              "\n",
              "        ...,\n",
              "\n",
              "        [[0.32941177, 0.32941177, 0.32941177],\n",
              "         [0.04705882, 0.04705882, 0.04705882],\n",
              "         [0.34509805, 0.34509805, 0.34509805],\n",
              "         ...,\n",
              "         [0.03921569, 0.03921569, 0.03921569],\n",
              "         [0.02745098, 0.02745098, 0.02745098],\n",
              "         [0.14901961, 0.14901961, 0.14901961]],\n",
              "\n",
              "        [[0.6862745 , 0.6862745 , 0.6862745 ],\n",
              "         [0.4745098 , 0.4745098 , 0.4745098 ],\n",
              "         [0.47058824, 0.47058824, 0.47058824],\n",
              "         ...,\n",
              "         [0.04705882, 0.04705882, 0.04705882],\n",
              "         [0.11372549, 0.11372549, 0.11372549],\n",
              "         [0.27450982, 0.27450982, 0.27450982]],\n",
              "\n",
              "        [[0.3764706 , 0.3764706 , 0.3764706 ],\n",
              "         [0.3019608 , 0.3019608 , 0.3019608 ],\n",
              "         [0.29803923, 0.29803923, 0.29803923],\n",
              "         ...,\n",
              "         [0.04705882, 0.04705882, 0.04705882],\n",
              "         [0.04313726, 0.04313726, 0.04313726],\n",
              "         [0.03921569, 0.03921569, 0.03921569]]]], dtype=float32)"
            ]
          },
          "metadata": {},
          "execution_count": 28
        }
      ]
    }
  ]
}